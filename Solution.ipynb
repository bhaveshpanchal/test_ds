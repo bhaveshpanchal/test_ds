{
 "cells": [
  {
   "cell_type": "code",
   "execution_count": 1,
   "metadata": {},
   "outputs": [],
   "source": [
    "import json"
   ]
  },
  {
   "cell_type": "code",
   "execution_count": 2,
   "metadata": {},
   "outputs": [],
   "source": [
    "import json\n",
    "\n",
    "with open('source_file_2.json') as f:\n",
    "    data = json.load(f)"
   ]
  },
  {
   "cell_type": "code",
   "execution_count": 3,
   "metadata": {},
   "outputs": [],
   "source": [
    "def Sort_Tuple(tup):  \n",
    "      \n",
    "    # getting length of list of tuples \n",
    "    lst = len(tup)  \n",
    "    for i in range(0, lst):  \n",
    "          \n",
    "        for j in range(0, lst-i-1):  \n",
    "            if (tup[j][1] > tup[j + 1][1]):  \n",
    "                temp = tup[j]  \n",
    "                tup[j]= tup[j + 1]  \n",
    "                tup[j + 1]= temp  \n",
    "    return tup"
   ]
  },
  {
   "cell_type": "code",
   "execution_count": 4,
   "metadata": {},
   "outputs": [],
   "source": [
    "set_managers = set()\n",
    "for project in data:\n",
    "    for i in range(len(project['managers'])):\n",
    "        set_managers.add(project['managers'][i])"
   ]
  },
  {
   "cell_type": "code",
   "execution_count": 5,
   "metadata": {},
   "outputs": [],
   "source": [
    "list_managers = list(set_managers)"
   ]
  },
  {
   "cell_type": "code",
   "execution_count": 6,
   "metadata": {},
   "outputs": [],
   "source": [
    "set_watchers = set()\n",
    "for project in data:\n",
    "    for i in range(len(project['watchers'])):\n",
    "        set_watchers.add(project['watchers'][i])"
   ]
  },
  {
   "cell_type": "code",
   "execution_count": 7,
   "metadata": {},
   "outputs": [],
   "source": [
    "list_watchers = list(set_watchers)"
   ]
  },
  {
   "cell_type": "code",
   "execution_count": 8,
   "metadata": {},
   "outputs": [],
   "source": [
    "managers = dict()\n",
    "watchers = dict()"
   ]
  },
  {
   "cell_type": "code",
   "execution_count": 9,
   "metadata": {},
   "outputs": [],
   "source": [
    "dict11 = []\n",
    "for project in data:\n",
    "    for i in range(len(project['managers'])):\n",
    "        d1 = dict()\n",
    "        manager = project['managers'][i]\n",
    "        d1['name'] = project['name']\n",
    "        d1['manager'] = manager\n",
    "        d1['priority'] = project['priority']\n",
    "        dict11.append(d1)"
   ]
  },
  {
   "cell_type": "code",
   "execution_count": 10,
   "metadata": {},
   "outputs": [],
   "source": [
    "for manager in list_managers:\n",
    "    l1 = set()\n",
    "    for project in dict11:\n",
    "        if project['manager'] == manager:\n",
    "            l1.add((project['name'], project['priority']))\n",
    "    managers[manager] = list(l1)"
   ]
  },
  {
   "cell_type": "code",
   "execution_count": 11,
   "metadata": {},
   "outputs": [],
   "source": [
    "managers_sorted = dict()\n",
    "for manager in list_managers:\n",
    "    sort_list =  Sort_Tuple(managers[manager])\n",
    "    managers_sorted[manager] = [x for x,y in sort_list]"
   ]
  },
  {
   "cell_type": "code",
   "execution_count": 12,
   "metadata": {},
   "outputs": [],
   "source": [
    "with open('managers.json', 'w') as json_file:\n",
    "  json.dump(managers_sorted, json_file)"
   ]
  },
  {
   "cell_type": "code",
   "execution_count": 13,
   "metadata": {},
   "outputs": [
    {
     "data": {
      "text/plain": [
       "{'name': '[CV] [Qt] OpenCV GUI',\n",
       " 'managers': ['csaftoiu', 'merlin'],\n",
       " 'watchers': ['merlin', 'morris'],\n",
       " 'priority': 850}"
      ]
     },
     "execution_count": 13,
     "metadata": {},
     "output_type": "execute_result"
    }
   ],
   "source": [
    "data[0]"
   ]
  },
  {
   "cell_type": "code",
   "execution_count": 15,
   "metadata": {},
   "outputs": [],
   "source": [
    "dict12 = []\n",
    "for project in data:\n",
    "    for i in range(len(project['watchers'])):\n",
    "        d1 = dict()\n",
    "        watcher = project['watchers'][i]\n",
    "        d1['name'] = project['name']\n",
    "        d1['watcher'] = watcher\n",
    "        d1['priority'] = project['priority']\n",
    "        dict12.append(d1)"
   ]
  },
  {
   "cell_type": "code",
   "execution_count": 18,
   "metadata": {},
   "outputs": [],
   "source": [
    "for watcher in list_watchers:\n",
    "    l1 = set()\n",
    "    for project in dict12:\n",
    "        if project['watcher'] == watcher:\n",
    "            l1.add((project['name'], project['priority']))\n",
    "    watchers[watcher] = list(l1)"
   ]
  },
  {
   "cell_type": "code",
   "execution_count": 19,
   "metadata": {},
   "outputs": [],
   "source": [
    "watchers_sorted = dict()\n",
    "for watcher in list_watchers:\n",
    "    sort_list =  Sort_Tuple(watchers[watcher])\n",
    "    watchers_sorted[watcher] = [x for x,y in sort_list]"
   ]
  },
  {
   "cell_type": "code",
   "execution_count": 20,
   "metadata": {},
   "outputs": [],
   "source": [
    "with open('watchers.json', 'w') as json_file:\n",
    "  json.dump(watchers_sorted, json_file)"
   ]
  },
  {
   "cell_type": "code",
   "execution_count": null,
   "metadata": {},
   "outputs": [],
   "source": []
  }
 ],
 "metadata": {
  "kernelspec": {
   "display_name": "Python 3",
   "language": "python",
   "name": "python3"
  },
  "language_info": {
   "codemirror_mode": {
    "name": "ipython",
    "version": 3
   },
   "file_extension": ".py",
   "mimetype": "text/x-python",
   "name": "python",
   "nbconvert_exporter": "python",
   "pygments_lexer": "ipython3",
   "version": "3.7.3"
  }
 },
 "nbformat": 4,
 "nbformat_minor": 2
}
